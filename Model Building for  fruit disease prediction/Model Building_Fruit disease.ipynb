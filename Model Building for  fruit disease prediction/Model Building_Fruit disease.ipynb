{
 "cells": [
  {
   "cell_type": "markdown",
   "id": "63b6baef",
   "metadata": {},
   "source": [
    "## project id:PNT2022TMID32297"
   ]
  },
  {
   "cell_type": "code",
   "execution_count": 5,
   "id": "c7716619",
   "metadata": {},
   "outputs": [],
   "source": [
    "from keras.preprocessing.image import ImageDataGenerator\n",
    "train_datagen=ImageDataGenerator(rescale=1./255,shear_range=0.2,zoom_range=0.2,horizontal_flip=True)\n",
    "test_datagen=ImageDataGenerator(rescale=1)\n"
   ]
  },
  {
   "cell_type": "code",
   "execution_count": 10,
   "id": "2e57690b",
   "metadata": {},
   "outputs": [
    {
     "name": "stdout",
     "output_type": "stream",
     "text": [
      "Found 1686 images belonging to 6 classes.\n",
      "Found 5384 images belonging to 6 classes.\n"
     ]
    }
   ],
   "source": [
    "x_train=train_datagen.flow_from_directory(r'C:\\\\Users\\\\God\\\\aswini ibm\\\\Data Collection\\\\Dataset Plant Disease\\\\fruit-dataset\\\\fruit-dataset\\\\test',target_size=(128,128),batch_size=2,class_mode='categorical')\n",
    "x_test=test_datagen.flow_from_directory(r'C:\\\\Users\\\\God\\\\aswini ibm\\\\Data Collection\\\\Dataset Plant Disease\\\\fruit-dataset\\\\fruit-dataset\\\\train' ,target_size=(128,128),batch_size=2,class_mode='categorical')\n"
   ]
  },
  {
   "cell_type": "code",
   "execution_count": 8,
   "id": "1ab21b87",
   "metadata": {},
   "outputs": [
    {
     "data": {
      "text/plain": [
       "'C:\\\\Users\\\\God\\\\aswini ibm'"
      ]
     },
     "execution_count": 8,
     "metadata": {},
     "output_type": "execute_result"
    }
   ],
   "source": [
    "pwd"
   ]
  },
  {
   "cell_type": "code",
   "execution_count": 11,
   "id": "76e310ec",
   "metadata": {},
   "outputs": [],
   "source": [
    "from keras.models import Sequential\n",
    "from keras.layers import Dense\n",
    "from keras.layers import Convolution2D\n",
    "from keras.layers import MaxPooling2D\n",
    "from keras.layers import Flatten\n",
    "\n"
   ]
  },
  {
   "cell_type": "code",
   "execution_count": 12,
   "id": "193ccec0",
   "metadata": {},
   "outputs": [],
   "source": [
    "model=Sequential()"
   ]
  },
  {
   "cell_type": "code",
   "execution_count": 13,
   "id": "d17fcd66",
   "metadata": {},
   "outputs": [],
   "source": [
    "model.add(Convolution2D(32,(3,3),input_shape=(128,128,3),activation='relu'))"
   ]
  },
  {
   "cell_type": "code",
   "execution_count": 14,
   "id": "db537aaf",
   "metadata": {},
   "outputs": [],
   "source": [
    "model.add(MaxPooling2D(pool_size=(2,2)))\n"
   ]
  },
  {
   "cell_type": "code",
   "execution_count": 15,
   "id": "93d5ecb8",
   "metadata": {},
   "outputs": [],
   "source": [
    "model.add(Flatten())\n"
   ]
  },
  {
   "cell_type": "code",
   "execution_count": 16,
   "id": "67db5e07",
   "metadata": {},
   "outputs": [],
   "source": [
    "model.add(Dense(units=40,kernel_initializer='uniform',activation='relu'))\n"
   ]
  },
  {
   "cell_type": "code",
   "execution_count": 17,
   "id": "6c117664",
   "metadata": {},
   "outputs": [],
   "source": [
    "model.add(Dense(units=20,kernel_initializer='random_uniform',activation='relu'))\n"
   ]
  },
  {
   "cell_type": "code",
   "execution_count": 18,
   "id": "3cde1114",
   "metadata": {},
   "outputs": [],
   "source": [
    "model.add(Dense(units=6,kernel_initializer='random_uniform',activation='softmax'))"
   ]
  },
  {
   "cell_type": "code",
   "execution_count": 19,
   "id": "13f1532e",
   "metadata": {},
   "outputs": [],
   "source": [
    "model.compile(loss='categorical_crossentropy',optimizer=\"adam\",metrics=[\"accuracy\"])\n"
   ]
  },
  {
   "cell_type": "code",
   "execution_count": 20,
   "id": "44958f70",
   "metadata": {},
   "outputs": [
    {
     "name": "stdout",
     "output_type": "stream",
     "text": [
      "Epoch 1/20\n",
      "89/89 [==============================] - 22s 181ms/step - loss: 1.6656 - accuracy: 0.3034 - val_loss: 80.3739 - val_accuracy: 0.3519\n",
      "Epoch 2/20\n",
      "89/89 [==============================] - 14s 158ms/step - loss: 1.4814 - accuracy: 0.4045 - val_loss: 147.7701 - val_accuracy: 0.4444\n",
      "Epoch 3/20\n",
      "89/89 [==============================] - 14s 157ms/step - loss: 1.3945 - accuracy: 0.4270 - val_loss: 199.6797 - val_accuracy: 0.2593\n",
      "Epoch 4/20\n",
      "89/89 [==============================] - 14s 155ms/step - loss: 1.2134 - accuracy: 0.5787 - val_loss: 98.6748 - val_accuracy: 0.6481\n",
      "Epoch 5/20\n",
      "89/89 [==============================] - 14s 155ms/step - loss: 0.9221 - accuracy: 0.6798 - val_loss: 40.4093 - val_accuracy: 0.7963\n",
      "Epoch 6/20\n",
      "89/89 [==============================] - 14s 154ms/step - loss: 0.8484 - accuracy: 0.6798 - val_loss: 103.9695 - val_accuracy: 0.6667\n",
      "Epoch 7/20\n",
      "89/89 [==============================] - 13s 151ms/step - loss: 0.6962 - accuracy: 0.7472 - val_loss: 66.6817 - val_accuracy: 0.6667\n",
      "Epoch 8/20\n",
      "89/89 [==============================] - 14s 151ms/step - loss: 0.5226 - accuracy: 0.7978 - val_loss: 115.9574 - val_accuracy: 0.6667\n",
      "Epoch 9/20\n",
      "89/89 [==============================] - 14s 151ms/step - loss: 0.5823 - accuracy: 0.7640 - val_loss: 72.5721 - val_accuracy: 0.8333\n",
      "Epoch 10/20\n",
      "89/89 [==============================] - 14s 151ms/step - loss: 0.5925 - accuracy: 0.7978 - val_loss: 162.4190 - val_accuracy: 0.6296\n",
      "Epoch 11/20\n",
      "89/89 [==============================] - 13s 150ms/step - loss: 0.5024 - accuracy: 0.8371 - val_loss: 34.7413 - val_accuracy: 0.8333\n",
      "Epoch 12/20\n",
      "89/89 [==============================] - 13s 150ms/step - loss: 0.4280 - accuracy: 0.8146 - val_loss: 108.1859 - val_accuracy: 0.7593\n",
      "Epoch 13/20\n",
      "89/89 [==============================] - 14s 153ms/step - loss: 0.6165 - accuracy: 0.7753 - val_loss: 85.7129 - val_accuracy: 0.7222\n",
      "Epoch 14/20\n",
      "89/89 [==============================] - 13s 151ms/step - loss: 0.4971 - accuracy: 0.8034 - val_loss: 97.9234 - val_accuracy: 0.7222\n",
      "Epoch 15/20\n",
      "89/89 [==============================] - 13s 149ms/step - loss: 0.4677 - accuracy: 0.8652 - val_loss: 95.7210 - val_accuracy: 0.8333\n",
      "Epoch 16/20\n",
      "89/89 [==============================] - 14s 151ms/step - loss: 0.3653 - accuracy: 0.8764 - val_loss: 65.4068 - val_accuracy: 0.8519\n",
      "Epoch 17/20\n",
      "89/89 [==============================] - 13s 148ms/step - loss: 0.3445 - accuracy: 0.8708 - val_loss: 52.9634 - val_accuracy: 0.8704\n",
      "Epoch 18/20\n",
      "89/89 [==============================] - 13s 149ms/step - loss: 0.3935 - accuracy: 0.8427 - val_loss: 171.0949 - val_accuracy: 0.7222\n",
      "Epoch 19/20\n",
      "89/89 [==============================] - 13s 149ms/step - loss: 0.4604 - accuracy: 0.7978 - val_loss: 45.3372 - val_accuracy: 0.8148\n",
      "Epoch 20/20\n",
      "89/89 [==============================] - 13s 149ms/step - loss: 0.2991 - accuracy: 0.9213 - val_loss: 106.8113 - val_accuracy: 0.7963\n"
     ]
    },
    {
     "data": {
      "text/plain": [
       "<keras.callbacks.History at 0x28652ae5430>"
      ]
     },
     "execution_count": 20,
     "metadata": {},
     "output_type": "execute_result"
    }
   ],
   "source": [
    "model.fit(x_train,steps_per_epoch=89,epochs=20,validation_data=x_test,validation_steps=27)"
   ]
  },
  {
   "cell_type": "code",
   "execution_count": 21,
   "id": "4b2b6ac8",
   "metadata": {},
   "outputs": [],
   "source": [
    "model.save('fruit.h5')"
   ]
  },
  {
   "cell_type": "code",
   "execution_count": 22,
   "id": "ce8c45be",
   "metadata": {},
   "outputs": [
    {
     "name": "stdout",
     "output_type": "stream",
     "text": [
      "Model: \"sequential\"\n",
      "_________________________________________________________________\n",
      " Layer (type)                Output Shape              Param #   \n",
      "=================================================================\n",
      " conv2d (Conv2D)             (None, 126, 126, 32)      896       \n",
      "                                                                 \n",
      " max_pooling2d (MaxPooling2D  (None, 63, 63, 32)       0         \n",
      " )                                                               \n",
      "                                                                 \n",
      " flatten (Flatten)           (None, 127008)            0         \n",
      "                                                                 \n",
      " dense (Dense)               (None, 40)                5080360   \n",
      "                                                                 \n",
      " dense_1 (Dense)             (None, 20)                820       \n",
      "                                                                 \n",
      " dense_2 (Dense)             (None, 6)                 126       \n",
      "                                                                 \n",
      "=================================================================\n",
      "Total params: 5,082,202\n",
      "Trainable params: 5,082,202\n",
      "Non-trainable params: 0\n",
      "_________________________________________________________________\n"
     ]
    }
   ],
   "source": [
    "model.summary()"
   ]
  },
  {
   "cell_type": "code",
   "execution_count": null,
   "id": "47b0da25",
   "metadata": {},
   "outputs": [],
   "source": []
  }
 ],
 "metadata": {
  "kernelspec": {
   "display_name": "Python 3 (ipykernel)",
   "language": "python",
   "name": "python3"
  },
  "language_info": {
   "codemirror_mode": {
    "name": "ipython",
    "version": 3
   },
   "file_extension": ".py",
   "mimetype": "text/x-python",
   "name": "python",
   "nbconvert_exporter": "python",
   "pygments_lexer": "ipython3",
   "version": "3.9.12"
  }
 },
 "nbformat": 4,
 "nbformat_minor": 5
}
