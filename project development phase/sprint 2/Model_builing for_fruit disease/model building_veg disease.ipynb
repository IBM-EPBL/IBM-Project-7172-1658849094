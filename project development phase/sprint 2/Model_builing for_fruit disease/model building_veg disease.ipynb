{
 "cells": [
  {
   "cell_type": "markdown",
   "id": "a2188199",
   "metadata": {},
   "source": [
    "## Team id:PNT2022TMID32297"
   ]
  },
  {
   "cell_type": "code",
   "execution_count": 1,
   "id": "5c0442f9",
   "metadata": {},
   "outputs": [],
   "source": [
    "from keras.preprocessing.image import ImageDataGenerator\n",
    "train_datagen=ImageDataGenerator(rescale=1./255,shear_range=0.2,zoom_range=0.2,horizontal_flip=True)\n",
    "test_datagen=ImageDataGenerator(rescale=1)\n"
   ]
  },
  {
   "cell_type": "code",
   "execution_count": 3,
   "id": "4d81094d",
   "metadata": {},
   "outputs": [
    {
     "name": "stdout",
     "output_type": "stream",
     "text": [
      "Found 11386 images belonging to 9 classes.\n",
      "Found 3416 images belonging to 9 classes.\n"
     ]
    }
   ],
   "source": [
    "x_train=train_datagen.flow_from_directory(r'C:\\\\Users\\\\God\\\\aswini ibm\\\\Data Collection\\\\Dataset Plant Disease\\\\Veg-dataset\\\\Veg-dataset\\\\train_set',target_size=(128,128),batch_size=2,class_mode='categorical')\n",
    "x_test=test_datagen.flow_from_directory(r'C:\\\\Users\\\\God\\\\aswini ibm\\\\Data Collection\\\\Dataset Plant Disease\\\\Veg-dataset\\Veg-dataset\\\\test_set' ,target_size=(128,128),batch_size=2,class_mode='categorical')\n"
   ]
  },
  {
   "cell_type": "code",
   "execution_count": 2,
   "id": "8c9a7139",
   "metadata": {},
   "outputs": [
    {
     "data": {
      "text/plain": [
       "'C:\\\\Users\\\\God\\\\aswini ibm'"
      ]
     },
     "execution_count": 2,
     "metadata": {},
     "output_type": "execute_result"
    }
   ],
   "source": [
    "pwd"
   ]
  },
  {
   "cell_type": "code",
   "execution_count": 4,
   "id": "b158f7cc",
   "metadata": {},
   "outputs": [],
   "source": [
    "from keras.models import Sequential\n",
    "from keras.layers import Dense\n",
    "from keras.layers import Convolution2D\n",
    "from keras.layers import MaxPooling2D\n",
    "from keras.layers import Flatten"
   ]
  },
  {
   "cell_type": "code",
   "execution_count": 5,
   "id": "3d15a97a",
   "metadata": {},
   "outputs": [],
   "source": [
    "model=Sequential()"
   ]
  },
  {
   "cell_type": "code",
   "execution_count": 6,
   "id": "a6f376e9",
   "metadata": {},
   "outputs": [],
   "source": [
    "model.add(Convolution2D(32,(3,3),input_shape=(128,128,3),activation='relu'))"
   ]
  },
  {
   "cell_type": "code",
   "execution_count": 7,
   "id": "92e5f963",
   "metadata": {},
   "outputs": [],
   "source": [
    "model.add(MaxPooling2D(pool_size=(2,2)))"
   ]
  },
  {
   "cell_type": "code",
   "execution_count": 8,
   "id": "90f62fbd",
   "metadata": {},
   "outputs": [],
   "source": [
    "model.add(Flatten())"
   ]
  },
  {
   "cell_type": "code",
   "execution_count": 9,
   "id": "bed19486",
   "metadata": {},
   "outputs": [],
   "source": [
    "model.add(Dense(units=300,kernel_initializer='uniform',activation='relu'))\n"
   ]
  },
  {
   "cell_type": "code",
   "execution_count": 10,
   "id": "89006bf7",
   "metadata": {},
   "outputs": [],
   "source": [
    "model.add(Dense(units=150,kernel_initializer='random_uniform',activation='relu'))\n"
   ]
  },
  {
   "cell_type": "code",
   "execution_count": 11,
   "id": "ddc25e2c",
   "metadata": {},
   "outputs": [],
   "source": [
    "model.add(Dense(units=75,kernel_initializer='uniform',activation='relu'))"
   ]
  },
  {
   "cell_type": "code",
   "execution_count": 12,
   "id": "8e29e64f",
   "metadata": {},
   "outputs": [],
   "source": [
    "model.add(Dense(units=9,kernel_initializer='uniform',activation='softmax'))"
   ]
  },
  {
   "cell_type": "code",
   "execution_count": 13,
   "id": "bfdd4a8b",
   "metadata": {},
   "outputs": [],
   "source": [
    "model.compile(loss='categorical_crossentropy',optimizer=\"adam\",metrics=[\"accuracy\"])\n"
   ]
  },
  {
   "cell_type": "code",
   "execution_count": 14,
   "id": "8b21a194",
   "metadata": {},
   "outputs": [
    {
     "name": "stdout",
     "output_type": "stream",
     "text": [
      "Epoch 1/20\n",
      "89/89 [==============================] - 84s 845ms/step - loss: 2.1316 - accuracy: 0.1180 - val_loss: 93.6509 - val_accuracy: 0.1111\n",
      "Epoch 2/20\n",
      "89/89 [==============================] - 79s 892ms/step - loss: 2.1191 - accuracy: 0.1348 - val_loss: 62.4294 - val_accuracy: 0.1111\n",
      "Epoch 3/20\n",
      "89/89 [==============================] - 75s 837ms/step - loss: 2.0899 - accuracy: 0.1629 - val_loss: 84.7088 - val_accuracy: 0.1667\n",
      "Epoch 4/20\n",
      "89/89 [==============================] - 78s 871ms/step - loss: 2.1113 - accuracy: 0.1910 - val_loss: 34.3981 - val_accuracy: 0.2963\n",
      "Epoch 5/20\n",
      "89/89 [==============================] - 88s 984ms/step - loss: 2.1363 - accuracy: 0.2135 - val_loss: 9.3706 - val_accuracy: 0.1852\n",
      "Epoch 6/20\n",
      "89/89 [==============================] - 74s 828ms/step - loss: 2.1659 - accuracy: 0.1629 - val_loss: 9.0074 - val_accuracy: 0.2593\n",
      "Epoch 7/20\n",
      "89/89 [==============================] - 73s 824ms/step - loss: 2.1295 - accuracy: 0.1517 - val_loss: 60.1689 - val_accuracy: 0.1667\n",
      "Epoch 8/20\n",
      "89/89 [==============================] - 73s 819ms/step - loss: 2.1036 - accuracy: 0.1404 - val_loss: 13.7194 - val_accuracy: 0.2222\n",
      "Epoch 9/20\n",
      "89/89 [==============================] - 73s 818ms/step - loss: 2.0932 - accuracy: 0.1348 - val_loss: 6.4905 - val_accuracy: 0.2593\n",
      "Epoch 10/20\n",
      "89/89 [==============================] - 73s 817ms/step - loss: 2.0934 - accuracy: 0.1067 - val_loss: 5.7200 - val_accuracy: 0.2222\n",
      "Epoch 11/20\n",
      "89/89 [==============================] - 73s 819ms/step - loss: 2.1212 - accuracy: 0.2191 - val_loss: 40.5870 - val_accuracy: 0.0926\n",
      "Epoch 12/20\n",
      "89/89 [==============================] - 74s 825ms/step - loss: 2.0332 - accuracy: 0.1180 - val_loss: 134.9444 - val_accuracy: 0.1111\n",
      "Epoch 13/20\n",
      "89/89 [==============================] - 73s 816ms/step - loss: 2.0622 - accuracy: 0.1854 - val_loss: 44.9752 - val_accuracy: 0.0926\n",
      "Epoch 14/20\n",
      "89/89 [==============================] - 73s 816ms/step - loss: 1.9845 - accuracy: 0.1629 - val_loss: 126.3637 - val_accuracy: 0.1852\n",
      "Epoch 15/20\n",
      "89/89 [==============================] - 73s 816ms/step - loss: 1.9852 - accuracy: 0.2640 - val_loss: 6.4871 - val_accuracy: 0.2222\n",
      "Epoch 16/20\n",
      "89/89 [==============================] - 75s 846ms/step - loss: 2.0336 - accuracy: 0.2416 - val_loss: 55.1052 - val_accuracy: 0.2593\n",
      "Epoch 17/20\n",
      "89/89 [==============================] - 73s 816ms/step - loss: 1.8979 - accuracy: 0.2809 - val_loss: 57.2992 - val_accuracy: 0.2778\n",
      "Epoch 18/20\n",
      "89/89 [==============================] - 72s 813ms/step - loss: 1.8345 - accuracy: 0.3933 - val_loss: 26.8337 - val_accuracy: 0.3333\n",
      "Epoch 19/20\n",
      "89/89 [==============================] - 73s 815ms/step - loss: 1.7053 - accuracy: 0.4213 - val_loss: 59.3233 - val_accuracy: 0.3148\n",
      "Epoch 20/20\n",
      "89/89 [==============================] - 72s 810ms/step - loss: 1.6447 - accuracy: 0.4382 - val_loss: 71.4412 - val_accuracy: 0.4074\n"
     ]
    },
    {
     "data": {
      "text/plain": [
       "<keras.callbacks.History at 0x1728924d640>"
      ]
     },
     "execution_count": 14,
     "metadata": {},
     "output_type": "execute_result"
    }
   ],
   "source": [
    "model.fit(x_train,steps_per_epoch=89,epochs=20,validation_data=x_test,validation_steps=27)\n"
   ]
  },
  {
   "cell_type": "code",
   "execution_count": null,
   "id": "71b85000",
   "metadata": {},
   "outputs": [],
   "source": []
  },
  {
   "cell_type": "markdown",
   "id": "dc329d08",
   "metadata": {},
   "source": [
    "# Save The Model"
   ]
  },
  {
   "cell_type": "code",
   "execution_count": 15,
   "id": "88f9a737",
   "metadata": {},
   "outputs": [],
   "source": [
    "model.save('vegetable.h5')"
   ]
  },
  {
   "cell_type": "code",
   "execution_count": 16,
   "id": "abe650a7",
   "metadata": {},
   "outputs": [
    {
     "name": "stdout",
     "output_type": "stream",
     "text": [
      "Model: \"sequential\"\n",
      "_________________________________________________________________\n",
      " Layer (type)                Output Shape              Param #   \n",
      "=================================================================\n",
      " conv2d (Conv2D)             (None, 126, 126, 32)      896       \n",
      "                                                                 \n",
      " max_pooling2d (MaxPooling2D  (None, 63, 63, 32)       0         \n",
      " )                                                               \n",
      "                                                                 \n",
      " flatten (Flatten)           (None, 127008)            0         \n",
      "                                                                 \n",
      " dense (Dense)               (None, 300)               38102700  \n",
      "                                                                 \n",
      " dense_1 (Dense)             (None, 150)               45150     \n",
      "                                                                 \n",
      " dense_2 (Dense)             (None, 75)                11325     \n",
      "                                                                 \n",
      " dense_3 (Dense)             (None, 9)                 684       \n",
      "                                                                 \n",
      "=================================================================\n",
      "Total params: 38,160,755\n",
      "Trainable params: 38,160,755\n",
      "Non-trainable params: 0\n",
      "_________________________________________________________________\n"
     ]
    }
   ],
   "source": [
    "model.summary()"
   ]
  },
  {
   "cell_type": "code",
   "execution_count": null,
   "id": "96613a07",
   "metadata": {},
   "outputs": [],
   "source": []
  }
 ],
 "metadata": {
  "kernelspec": {
   "display_name": "Python 3 (ipykernel)",
   "language": "python",
   "name": "python3"
  },
  "language_info": {
   "codemirror_mode": {
    "name": "ipython",
    "version": 3
   },
   "file_extension": ".py",
   "mimetype": "text/x-python",
   "name": "python",
   "nbconvert_exporter": "python",
   "pygments_lexer": "ipython3",
   "version": "3.9.12"
  }
 },
 "nbformat": 4,
 "nbformat_minor": 5
}
